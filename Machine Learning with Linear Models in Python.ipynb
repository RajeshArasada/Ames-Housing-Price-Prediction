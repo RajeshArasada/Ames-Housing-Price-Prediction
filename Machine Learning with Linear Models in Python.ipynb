{
 "cells": [
  {
   "cell_type": "markdown",
   "metadata": {},
   "source": [
    "## Import Libraries"
   ]
  },
  {
   "cell_type": "code",
   "execution_count": 1,
   "metadata": {},
   "outputs": [],
   "source": [
    "## import all the necessary modules for Exploratory Data Analysis, Linear Models and Plotting\n",
    "import pandas as pd\n",
    "import numpy as np\n",
    "import matplotlib.pyplot as plt\n",
    "%matplotlib inline\n",
    "from matplotlib.ticker import StrMethodFormatter\n",
    "import seaborn as sns\n",
    "from math import log\n",
    "from sklearn.linear_model import LinearRegression\n",
    "from sklearn import linear_model\n",
    "from sklearn.model_selection import cross_validate\n",
    "from sklearn.linear_model import Ridge, RidgeCV, ElasticNet, ElasticNet, Lasso, LassoCV\n",
    "from sklearn.model_selection import KFold, cross_val_score, train_test_split\n",
    "from sklearn.metrics import mean_squared_error as MSE\n",
    "from sklearn.model_selection import train_test_split\n"
   ]
  },
  {
   "cell_type": "markdown",
   "metadata": {},
   "source": [
    "## Load and explore the dataframe"
   ]
  },
  {
   "cell_type": "code",
   "execution_count": 2,
   "metadata": {
    "scrolled": true
   },
   "outputs": [],
   "source": [
    "# Load the training data\n",
    "train_lm = pd.read_csv('train_df_final.csv')"
   ]
  },
  {
   "cell_type": "code",
   "execution_count": 3,
   "metadata": {},
   "outputs": [
    {
     "data": {
      "text/html": [
       "<div>\n",
       "<style scoped>\n",
       "    .dataframe tbody tr th:only-of-type {\n",
       "        vertical-align: middle;\n",
       "    }\n",
       "\n",
       "    .dataframe tbody tr th {\n",
       "        vertical-align: top;\n",
       "    }\n",
       "\n",
       "    .dataframe thead th {\n",
       "        text-align: right;\n",
       "    }\n",
       "</style>\n",
       "<table border=\"1\" class=\"dataframe\">\n",
       "  <thead>\n",
       "    <tr style=\"text-align: right;\">\n",
       "      <th></th>\n",
       "      <th>3SsnPorch</th>\n",
       "      <th>Bathrooms</th>\n",
       "      <th>BedroomAbvGr</th>\n",
       "      <th>BsmtCond</th>\n",
       "      <th>BsmtQual</th>\n",
       "      <th>EnclosedPorch</th>\n",
       "      <th>ExterCond</th>\n",
       "      <th>ExterQual</th>\n",
       "      <th>Fence</th>\n",
       "      <th>FireplaceQu</th>\n",
       "      <th>...</th>\n",
       "      <th>MiscFeature_Shed</th>\n",
       "      <th>MiscFeature_TenC</th>\n",
       "      <th>SaleType_CWD</th>\n",
       "      <th>SaleType_Con</th>\n",
       "      <th>SaleType_ConLD</th>\n",
       "      <th>SaleType_ConLI</th>\n",
       "      <th>SaleType_ConLw</th>\n",
       "      <th>SaleType_New</th>\n",
       "      <th>SaleType_Oth</th>\n",
       "      <th>SaleType_WD</th>\n",
       "    </tr>\n",
       "  </thead>\n",
       "  <tbody>\n",
       "    <tr>\n",
       "      <th>0</th>\n",
       "      <td>0</td>\n",
       "      <td>3.5</td>\n",
       "      <td>3</td>\n",
       "      <td>4</td>\n",
       "      <td>2</td>\n",
       "      <td>0</td>\n",
       "      <td>4</td>\n",
       "      <td>2</td>\n",
       "      <td>4</td>\n",
       "      <td>3</td>\n",
       "      <td>...</td>\n",
       "      <td>0</td>\n",
       "      <td>0</td>\n",
       "      <td>0</td>\n",
       "      <td>0</td>\n",
       "      <td>0</td>\n",
       "      <td>0</td>\n",
       "      <td>0</td>\n",
       "      <td>0</td>\n",
       "      <td>0</td>\n",
       "      <td>1</td>\n",
       "    </tr>\n",
       "    <tr>\n",
       "      <th>1</th>\n",
       "      <td>0</td>\n",
       "      <td>2.5</td>\n",
       "      <td>3</td>\n",
       "      <td>4</td>\n",
       "      <td>2</td>\n",
       "      <td>0</td>\n",
       "      <td>4</td>\n",
       "      <td>3</td>\n",
       "      <td>4</td>\n",
       "      <td>5</td>\n",
       "      <td>...</td>\n",
       "      <td>0</td>\n",
       "      <td>0</td>\n",
       "      <td>0</td>\n",
       "      <td>0</td>\n",
       "      <td>0</td>\n",
       "      <td>0</td>\n",
       "      <td>0</td>\n",
       "      <td>0</td>\n",
       "      <td>0</td>\n",
       "      <td>1</td>\n",
       "    </tr>\n",
       "    <tr>\n",
       "      <th>2</th>\n",
       "      <td>0</td>\n",
       "      <td>3.5</td>\n",
       "      <td>3</td>\n",
       "      <td>4</td>\n",
       "      <td>2</td>\n",
       "      <td>0</td>\n",
       "      <td>4</td>\n",
       "      <td>2</td>\n",
       "      <td>4</td>\n",
       "      <td>5</td>\n",
       "      <td>...</td>\n",
       "      <td>0</td>\n",
       "      <td>0</td>\n",
       "      <td>0</td>\n",
       "      <td>0</td>\n",
       "      <td>0</td>\n",
       "      <td>0</td>\n",
       "      <td>0</td>\n",
       "      <td>0</td>\n",
       "      <td>0</td>\n",
       "      <td>1</td>\n",
       "    </tr>\n",
       "  </tbody>\n",
       "</table>\n",
       "<p>3 rows × 356 columns</p>\n",
       "</div>"
      ],
      "text/plain": [
       "   3SsnPorch  Bathrooms  BedroomAbvGr  BsmtCond  BsmtQual  EnclosedPorch  \\\n",
       "0          0        3.5             3         4         2              0   \n",
       "1          0        2.5             3         4         2              0   \n",
       "2          0        3.5             3         4         2              0   \n",
       "\n",
       "   ExterCond  ExterQual  Fence  FireplaceQu     ...       MiscFeature_Shed  \\\n",
       "0          4          2      4            3     ...                      0   \n",
       "1          4          3      4            5     ...                      0   \n",
       "2          4          2      4            5     ...                      0   \n",
       "\n",
       "   MiscFeature_TenC  SaleType_CWD  SaleType_Con  SaleType_ConLD  \\\n",
       "0                 0             0             0               0   \n",
       "1                 0             0             0               0   \n",
       "2                 0             0             0               0   \n",
       "\n",
       "   SaleType_ConLI  SaleType_ConLw  SaleType_New  SaleType_Oth  SaleType_WD  \n",
       "0               0               0             0             0            1  \n",
       "1               0               0             0             0            1  \n",
       "2               0               0             0             0            1  \n",
       "\n",
       "[3 rows x 356 columns]"
      ]
     },
     "execution_count": 3,
     "metadata": {},
     "output_type": "execute_result"
    }
   ],
   "source": [
    "# Check the first three observations\n",
    "train_lm.head(3)"
   ]
  },
  {
   "cell_type": "code",
   "execution_count": 4,
   "metadata": {},
   "outputs": [
    {
     "name": "stdout",
     "output_type": "stream",
     "text": [
      "<class 'pandas.core.frame.DataFrame'>\n",
      "RangeIndex: 1453 entries, 0 to 1452\n",
      "Columns: 356 entries, 3SsnPorch to SaleType_WD\n",
      "dtypes: float64(6), int64(350)\n",
      "memory usage: 3.9 MB\n"
     ]
    }
   ],
   "source": [
    "# Check the data information\n",
    "train_lm.info()"
   ]
  },
  {
   "cell_type": "code",
   "execution_count": 5,
   "metadata": {},
   "outputs": [],
   "source": [
    "# Drop the 'Id' column from the train dataset\n",
    "train_lm.drop('Id', axis =1, inplace = True)"
   ]
  },
  {
   "cell_type": "code",
   "execution_count": 6,
   "metadata": {},
   "outputs": [
    {
     "data": {
      "text/plain": [
       "(1453, 355)"
      ]
     },
     "execution_count": 6,
     "metadata": {},
     "output_type": "execute_result"
    }
   ],
   "source": [
    "# Check the shape of the dataframe\n",
    "train_lm.shape"
   ]
  },
  {
   "cell_type": "markdown",
   "metadata": {},
   "source": [
    "## Split the data into Training and Testing Data"
   ]
  },
  {
   "cell_type": "markdown",
   "metadata": {},
   "source": [
    "### Define the X and y variables"
   ]
  },
  {
   "cell_type": "code",
   "execution_count": 7,
   "metadata": {},
   "outputs": [],
   "source": [
    "# Extract the target variable\n",
    "y = train_lm['SalePrice_log']"
   ]
  },
  {
   "cell_type": "code",
   "execution_count": 8,
   "metadata": {},
   "outputs": [],
   "source": [
    "# Drop the unneeded columns\n",
    "X = train_lm.drop('SalePrice_log', axis = 1)"
   ]
  },
  {
   "cell_type": "code",
   "execution_count": 9,
   "metadata": {},
   "outputs": [],
   "source": [
    "#Now that we've explored the data a bit, split the data into training and testing sets. \n",
    "X_train, X_test, y_train, y_test = train_test_split(X, y, test_size = 0.3, random_state = 101)"
   ]
  },
  {
   "cell_type": "markdown",
   "metadata": {},
   "source": [
    "## Base Model - Multiple Linear Regression"
   ]
  },
  {
   "cell_type": "markdown",
   "metadata": {},
   "source": [
    "### Create an instance of a LinearRegression() model named lm."
   ]
  },
  {
   "cell_type": "code",
   "execution_count": 10,
   "metadata": {},
   "outputs": [],
   "source": [
    "# Instantiate a linear model\n",
    "lm = LinearRegression()"
   ]
  },
  {
   "cell_type": "code",
   "execution_count": 11,
   "metadata": {},
   "outputs": [
    {
     "data": {
      "text/plain": [
       "LinearRegression(copy_X=True, fit_intercept=True, n_jobs=None,\n",
       "         normalize=False)"
      ]
     },
     "execution_count": 11,
     "metadata": {},
     "output_type": "execute_result"
    }
   ],
   "source": [
    "# Fit the model\n",
    "lm.fit(X_train,y_train)"
   ]
  },
  {
   "cell_type": "markdown",
   "metadata": {},
   "source": [
    "**Print out the coefficients of the model**"
   ]
  },
  {
   "cell_type": "code",
   "execution_count": 12,
   "metadata": {
    "scrolled": true
   },
   "outputs": [
    {
     "name": "stdout",
     "output_type": "stream",
     "text": [
      "Coefficients: \n",
      " [ 1.57577581e-04  3.46325460e-02 -2.02001462e-03  9.86538539e-03\n",
      " -2.77475063e-03  1.85890406e-04 -5.15246972e-04  7.32602481e-03\n",
      "  2.94056567e-03 -1.17400382e-03  2.21123808e-02  1.05699943e-04\n",
      " -4.19505633e-04  5.97478340e-03  2.25104007e-04 -4.65564346e-03\n",
      " -3.56516786e-02 -1.81408747e-02  5.73794778e-06  5.92191363e-04\n",
      "  1.74638206e-05  4.37509332e-05  1.48058293e-04  3.99358945e-02\n",
      "  4.21957165e-02  5.26829488e-04  1.70852646e-01  2.03626147e-04\n",
      "  1.18972407e-04  1.31930053e-04 -7.95093846e-02 -1.55712347e-01\n",
      " -3.81776504e-01  2.92805895e-02 -6.18412598e-03 -1.84775416e-02\n",
      "  1.38093192e-01  1.69417611e-02  1.70228182e-02 -5.48851912e-03\n",
      "  1.73036291e-02 -9.32032229e-14 -4.67663400e-02  3.01273709e-02\n",
      "  4.13679322e-03  4.00920131e-01  3.24843371e-01  3.49816510e-01\n",
      "  3.36037425e-01  4.96011105e-02 -3.47072967e-02 -3.13622890e-02\n",
      " -3.58958270e-03 -2.97025836e-03  5.28177959e-03  3.91501171e-02\n",
      " -2.55729579e-02 -9.64249053e-02 -5.16210492e-03  1.44077297e-02\n",
      " -3.17237000e-02  3.75060131e-03  4.69226789e-02 -1.66543395e-03\n",
      "  6.78215373e-05 -5.44721999e-02  4.13679322e-03 -5.48851912e-03\n",
      " -1.03432609e-01 -5.35736652e-02  6.25178866e-02  9.43892731e-02\n",
      "  1.15225860e-01  3.37994228e-02  6.84602718e-02 -2.39058663e-02\n",
      "  8.90155275e-02 -4.38387205e-02  5.24971853e-02  4.96652703e-01\n",
      "  3.67271771e-01 -5.27355937e-16  2.94670841e-01  8.71525074e-15\n",
      "  4.27435864e-15  4.39524521e-01 -2.46015039e-02 -6.04576184e-02\n",
      "  5.59801277e-02 -1.26331342e-02  9.31843666e-02 -1.73272655e-01\n",
      "  1.37563864e-01  2.65861088e-02 -1.07598280e-01  1.69963717e-02\n",
      "  3.55815599e-02  1.33303562e-01  3.59743873e-02  3.17390901e-01\n",
      "  2.87683302e-02 -1.43234361e-02  7.89112332e-03  2.13588012e-02\n",
      " -1.00568426e-02  7.78817419e-02 -4.27145605e-02  2.65861088e-02\n",
      "  1.60708565e-01  3.61077301e-02  4.00107839e-02 -5.56316801e-02\n",
      " -1.34597525e-02  3.67027248e-02 -2.20466677e-01  3.39659566e-02\n",
      "  5.07056907e-02  4.05399760e-02  2.00994669e-02  1.74452890e-02\n",
      "  2.96720042e-02  5.51084406e-03  1.36574827e-01  4.80686539e-02\n",
      " -2.51053238e-01 -8.89489661e-03  3.68549806e-02 -1.21132590e-01\n",
      " -3.00881951e-01  4.84394620e-02  4.59135645e-02  8.41498367e-04\n",
      " -1.04790920e-02  1.32273395e-01  9.78046494e-02  1.42385774e-01\n",
      "  1.55869323e-01  1.55801856e-01  4.59135645e-02  2.19846906e-01\n",
      "  3.01345425e-01  2.41814575e-02 -2.64456856e-01  2.43261402e-01\n",
      "  3.97909669e-01  3.28541450e-02 -1.20076232e-01  2.07230032e-01\n",
      "  4.71995857e-02  1.34009389e-02  4.01151369e-02  2.46871757e-02\n",
      " -4.09206072e-01  1.26395375e-01  9.81972620e-02  1.67029302e-02\n",
      "  6.97496508e-02  1.03985785e-01 -7.30244264e-02 -5.94274230e-02\n",
      " -6.30484532e-02 -4.71481727e-02  6.54456943e-01  5.27856141e-01\n",
      "  3.57179987e-01 -1.17915941e-01 -7.15390747e-02 -1.13196313e-02\n",
      "  2.33846111e-02  4.09860419e-02  4.18119915e-02  7.22326798e-02\n",
      " -1.27652876e-02  1.21124777e-02 -3.01009064e-02  1.82869784e-02\n",
      " -5.71886958e-03 -4.70992912e-02 -2.26474366e-02  1.50914051e-02\n",
      " -3.80904228e-02  1.82869784e-02 -3.87440816e-02 -2.11829583e-02\n",
      " -1.26924114e-01 -1.04007003e-01 -1.78998753e-01 -1.99544044e-01\n",
      " -1.89095925e-01 -2.08061699e-01 -1.85558525e-01 -1.95389832e-01\n",
      " -2.02961450e-01 -1.90540710e-01 -1.82890449e-01 -2.02296653e-01\n",
      " -2.31122737e-01 -2.21203846e-01 -2.18803098e-01 -2.52751130e-01\n",
      " -2.74701668e-01 -2.68390666e-01 -3.23584099e-01 -3.04793935e-01\n",
      " -2.14028067e-01 -2.89253262e-01 -1.83401435e-01 -2.86829635e-01\n",
      " -2.61479675e-01 -3.35674010e-01 -3.45132210e-01 -3.20287728e-01\n",
      " -3.70147020e-01 -3.06423584e-01 -3.39478641e-01 -3.06455487e-01\n",
      " -3.12417653e-01 -3.56616481e-01 -3.48091924e-01 -2.72173810e-01\n",
      " -3.80636121e-01 -3.51412484e-01 -3.74623511e-01 -3.61280285e-01\n",
      " -3.48473059e-01 -3.24629628e-01 -3.72902464e-01 -3.62864578e-01\n",
      " -3.90983734e-01 -3.32663434e-01 -3.99334825e-01 -3.06935179e-01\n",
      " -3.38780123e-01 -3.97882206e-01 -3.71521932e-01 -3.95944312e-01\n",
      " -4.03080946e-01 -3.80504373e-01 -3.74260205e-01 -3.65473989e-01\n",
      " -4.29091463e-01 -3.89461237e-01 -2.79294199e-01 -4.05174836e-01\n",
      " -3.48793049e-01 -3.58441646e-01 -3.87000590e-01 -5.42841761e-01\n",
      " -3.54804475e-01 -3.45443918e-01 -4.28719085e-01 -3.53233596e-01\n",
      " -3.89633841e-01 -4.60602867e-01 -5.12736323e-01 -2.84746297e-01\n",
      " -3.14206251e-01 -3.96498154e-01 -3.07605940e-01 -4.11679208e-01\n",
      " -4.42233349e-01 -4.12839319e-01 -3.85604263e-01 -7.34017598e-01\n",
      " -3.84079062e-01 -3.67040203e-01 -3.00541334e-01 -3.39063274e-01\n",
      " -4.24443480e-01 -3.18584090e-01 -4.19670772e-01 -3.91408389e-01\n",
      " -4.72925996e-01 -2.60464010e-01 -4.19895073e-01 -3.66962706e-01\n",
      " -4.69294063e-01 -4.65135519e-01 -2.22044605e-16 -2.35805242e-01\n",
      " -5.41423355e-01 -4.54595613e-01  1.38777878e-17 -5.17903245e-01\n",
      " -2.36900278e-01  4.16333634e-17 -2.77555756e-17 -8.32667268e-17\n",
      " -4.27973062e-01 -1.11022302e-16 -8.32667268e-17  8.32667268e-17\n",
      "  5.55111512e-17 -6.84001631e-01 -5.59300518e-01 -4.28782117e-01\n",
      " -3.88970907e-01 -6.63363354e-01  2.77555756e-17 -4.68898031e-01\n",
      " -3.99284540e-03  3.87162241e-03 -4.08856537e-03 -2.03129240e-02\n",
      " -6.92274124e-03  9.21465859e-03  6.30223419e-04  2.24203777e-02\n",
      "  1.82135426e-02  1.82047431e-02  1.47383195e-02  2.98440239e-03\n",
      "  1.35988488e-02  2.74500526e-03  1.07738665e-02  1.28721145e-02\n",
      "  1.32597598e-02  2.83170455e-02  3.38756446e-02  6.81233873e-03\n",
      " -3.35750218e-02  1.18634049e-01 -6.48340611e-02 -3.27815694e-02\n",
      "  6.82990577e-05 -8.90882807e-02 -5.70295312e-02 -7.50402847e-03\n",
      "  1.62886971e-02  5.74450549e-04  1.62337660e-02  8.25569529e-02\n",
      " -5.93663318e-02 -6.78899339e-02 -1.23309546e-02 -2.75317462e-02\n",
      " -2.23377854e-02  1.30037089e-01 -8.33358790e-03  3.93906162e-02\n",
      " -2.94781753e-02  1.62852460e-02  6.61643690e-01  7.81388536e-01\n",
      "  6.04414935e-01  4.46566451e-01  4.96545195e-02  1.74050817e-01\n",
      "  2.96540543e-02  8.56492440e-03  5.50527457e-02  4.69528136e-03\n",
      "  6.12573984e-02  4.76471600e-03]\n",
      "Intercept: \n",
      " 8.633622040125989\n"
     ]
    }
   ],
   "source": [
    "# The coefficients\n",
    "print('Coefficients: \\n', lm.coef_)\n",
    "print ('Intercept: \\n', lm.intercept_)"
   ]
  },
  {
   "cell_type": "markdown",
   "metadata": {},
   "source": [
    "### Predicting on Hold Out Test Data\n",
    "Now that we have fit our model, let's evaluate its performance by predicting off the test values!\n"
   ]
  },
  {
   "cell_type": "code",
   "execution_count": 13,
   "metadata": {},
   "outputs": [],
   "source": [
    "# Use lm.predict() to predict off the X_test set of the data\n",
    "predictions = lm.predict(X_test)"
   ]
  },
  {
   "cell_type": "code",
   "execution_count": 14,
   "metadata": {
    "scrolled": true
   },
   "outputs": [
    {
     "data": {
      "text/plain": [
       "Text(0,0.5,'Predicted Y')"
      ]
     },
     "execution_count": 14,
     "metadata": {},
     "output_type": "execute_result"
    },
    {
     "data": {
      "image/png": "[encoded data removed]",
      "text/plain": [
       "<matplotlib.figure.Figure at 0x116735f28>"
      ]
     },
     "metadata": {},
     "output_type": "display_data"
    }
   ],
   "source": [
    "# Create a scatterplot of the real test values versus the predicted values\n",
    "plt.scatter(y_test, predictions)\n",
    "plt.xlabel('Y Test')\n",
    "plt.ylabel('Predicted Y')"
   ]
  },
  {
   "cell_type": "code",
   "execution_count": 15,
   "metadata": {},
   "outputs": [
    {
     "name": "stdout",
     "output_type": "stream",
     "text": [
      "MAE: 0.104058096859164\n",
      "MSE: 0.02435950877016429\n",
      "RMSE: 0.1560753304342627\n"
     ]
    }
   ],
   "source": [
    "# calculate these metrics by hand!\n",
    "from sklearn import metrics\n",
    "print('MAE:', metrics.mean_absolute_error(y_test, predictions))\n",
    "print('MSE:', metrics.mean_squared_error(y_test, predictions))\n",
    "print('RMSE:', np.sqrt(metrics.mean_squared_error(y_test, predictions)))"
   ]
  },
  {
   "cell_type": "markdown",
   "metadata": {},
   "source": [
    "### Residuals\n",
    "\n",
    "Got a decent model with a good fit. Plot the residuals to make sure everything was okay with our data. \n",
    "\n",
    "**Plot a histogram of the residuals and make sure it looks normally distributed. Use either seaborn distplot, or just plt.hist().**"
   ]
  },
  {
   "cell_type": "code",
   "execution_count": 16,
   "metadata": {},
   "outputs": [
    {
     "data": {
      "text/plain": [
       "<matplotlib.axes._subplots.AxesSubplot at 0x11f97ce10>"
      ]
     },
     "execution_count": 16,
     "metadata": {},
     "output_type": "execute_result"
    },
    {
     "data": {
      "image/png": "[encoded data removed]",
      "text/plain": [
       "<matplotlib.figure.Figure at 0x105daca90>"
      ]
     },
     "metadata": {},
     "output_type": "display_data"
    }
   ],
   "source": [
    "sns.distplot(y_test - predictions)"
   ]
  },
  {
   "cell_type": "markdown",
   "metadata": {},
   "source": [
    "### Conclusion\n",
    "** Recreate the dataframe below. **"
   ]
  },
  {
   "cell_type": "code",
   "execution_count": 17,
   "metadata": {
    "scrolled": true
   },
   "outputs": [
    {
     "data": {
      "text/html": [
       "<div>\n",
       "<style scoped>\n",
       "    .dataframe tbody tr th:only-of-type {\n",
       "        vertical-align: middle;\n",
       "    }\n",
       "\n",
       "    .dataframe tbody tr th {\n",
       "        vertical-align: top;\n",
       "    }\n",
       "\n",
       "    .dataframe thead th {\n",
       "        text-align: right;\n",
       "    }\n",
       "</style>\n",
       "<table border=\"1\" class=\"dataframe\">\n",
       "  <thead>\n",
       "    <tr style=\"text-align: right;\">\n",
       "      <th></th>\n",
       "      <th>Coeffecient</th>\n",
       "    </tr>\n",
       "  </thead>\n",
       "  <tbody>\n",
       "    <tr>\n",
       "      <th>MiscFeature_Othr</th>\n",
       "      <td>0.781389</td>\n",
       "    </tr>\n",
       "    <tr>\n",
       "      <th>MiscFeature_None</th>\n",
       "      <td>0.661644</td>\n",
       "    </tr>\n",
       "    <tr>\n",
       "      <th>RoofStyle_Shed</th>\n",
       "      <td>0.654457</td>\n",
       "    </tr>\n",
       "    <tr>\n",
       "      <th>MiscFeature_Shed</th>\n",
       "      <td>0.604415</td>\n",
       "    </tr>\n",
       "    <tr>\n",
       "      <th>RoofMatl_Membran</th>\n",
       "      <td>0.527856</td>\n",
       "    </tr>\n",
       "    <tr>\n",
       "      <th>Condition2_Feedr</th>\n",
       "      <td>0.496653</td>\n",
       "    </tr>\n",
       "    <tr>\n",
       "      <th>MiscFeature_TenC</th>\n",
       "      <td>0.446566</td>\n",
       "    </tr>\n",
       "    <tr>\n",
       "      <th>Condition2_RRNn</th>\n",
       "      <td>0.439525</td>\n",
       "    </tr>\n",
       "    <tr>\n",
       "      <th>MSZoning_FV</th>\n",
       "      <td>0.400920</td>\n",
       "    </tr>\n",
       "    <tr>\n",
       "      <th>HouseStyle_1.5Unf</th>\n",
       "      <td>0.397910</td>\n",
       "    </tr>\n",
       "    <tr>\n",
       "      <th>Condition2_Norm</th>\n",
       "      <td>0.367272</td>\n",
       "    </tr>\n",
       "    <tr>\n",
       "      <th>RoofMatl_Metal</th>\n",
       "      <td>0.357180</td>\n",
       "    </tr>\n",
       "    <tr>\n",
       "      <th>MSZoning_RL</th>\n",
       "      <td>0.349817</td>\n",
       "    </tr>\n",
       "    <tr>\n",
       "      <th>MSZoning_RM</th>\n",
       "      <td>0.336037</td>\n",
       "    </tr>\n",
       "    <tr>\n",
       "      <th>MSZoning_RH</th>\n",
       "      <td>0.324843</td>\n",
       "    </tr>\n",
       "    <tr>\n",
       "      <th>Exterior1st_Stone</th>\n",
       "      <td>0.317391</td>\n",
       "    </tr>\n",
       "    <tr>\n",
       "      <th>Heating_GasW</th>\n",
       "      <td>0.301345</td>\n",
       "    </tr>\n",
       "    <tr>\n",
       "      <th>Condition2_PosN</th>\n",
       "      <td>0.294671</td>\n",
       "    </tr>\n",
       "    <tr>\n",
       "      <th>Heating_Wall</th>\n",
       "      <td>0.243261</td>\n",
       "    </tr>\n",
       "    <tr>\n",
       "      <th>Heating_GasA</th>\n",
       "      <td>0.219847</td>\n",
       "    </tr>\n",
       "    <tr>\n",
       "      <th>HouseStyle_2.5Unf</th>\n",
       "      <td>0.207230</td>\n",
       "    </tr>\n",
       "    <tr>\n",
       "      <th>SaleType_Con</th>\n",
       "      <td>0.174051</td>\n",
       "    </tr>\n",
       "    <tr>\n",
       "      <th>PoolQC</th>\n",
       "      <td>0.170853</td>\n",
       "    </tr>\n",
       "    <tr>\n",
       "      <th>Exterior2nd_CmentBd</th>\n",
       "      <td>0.160709</td>\n",
       "    </tr>\n",
       "    <tr>\n",
       "      <th>GarageType_CarPort</th>\n",
       "      <td>0.155869</td>\n",
       "    </tr>\n",
       "    <tr>\n",
       "      <th>GarageType_Detchd</th>\n",
       "      <td>0.155802</td>\n",
       "    </tr>\n",
       "    <tr>\n",
       "      <th>GarageType_BuiltIn</th>\n",
       "      <td>0.142386</td>\n",
       "    </tr>\n",
       "    <tr>\n",
       "      <th>MSSubClass_75</th>\n",
       "      <td>0.138093</td>\n",
       "    </tr>\n",
       "    <tr>\n",
       "      <th>Exterior1st_BrkFace</th>\n",
       "      <td>0.137564</td>\n",
       "    </tr>\n",
       "    <tr>\n",
       "      <th>Foundation_Stone</th>\n",
       "      <td>0.136575</td>\n",
       "    </tr>\n",
       "    <tr>\n",
       "      <th>...</th>\n",
       "      <td>...</td>\n",
       "    </tr>\n",
       "    <tr>\n",
       "      <th>HouseAge_84</th>\n",
       "      <td>-0.396498</td>\n",
       "    </tr>\n",
       "    <tr>\n",
       "      <th>HouseAge_58</th>\n",
       "      <td>-0.397882</td>\n",
       "    </tr>\n",
       "    <tr>\n",
       "      <th>HouseAge_55</th>\n",
       "      <td>-0.399335</td>\n",
       "    </tr>\n",
       "    <tr>\n",
       "      <th>HouseAge_61</th>\n",
       "      <td>-0.403081</td>\n",
       "    </tr>\n",
       "    <tr>\n",
       "      <th>HouseAge_68</th>\n",
       "      <td>-0.405175</td>\n",
       "    </tr>\n",
       "    <tr>\n",
       "      <th>LandSlope_Sev</th>\n",
       "      <td>-0.409206</td>\n",
       "    </tr>\n",
       "    <tr>\n",
       "      <th>HouseAge_87</th>\n",
       "      <td>-0.411679</td>\n",
       "    </tr>\n",
       "    <tr>\n",
       "      <th>HouseAge_89</th>\n",
       "      <td>-0.412839</td>\n",
       "    </tr>\n",
       "    <tr>\n",
       "      <th>HouseAge_98</th>\n",
       "      <td>-0.419671</td>\n",
       "    </tr>\n",
       "    <tr>\n",
       "      <th>HouseAge_102</th>\n",
       "      <td>-0.419895</td>\n",
       "    </tr>\n",
       "    <tr>\n",
       "      <th>HouseAge_96</th>\n",
       "      <td>-0.424443</td>\n",
       "    </tr>\n",
       "    <tr>\n",
       "      <th>HouseAge_118</th>\n",
       "      <td>-0.427973</td>\n",
       "    </tr>\n",
       "    <tr>\n",
       "      <th>HouseAge_77</th>\n",
       "      <td>-0.428719</td>\n",
       "    </tr>\n",
       "    <tr>\n",
       "      <th>HouseAge_133</th>\n",
       "      <td>-0.428782</td>\n",
       "    </tr>\n",
       "    <tr>\n",
       "      <th>HouseAge_65</th>\n",
       "      <td>-0.429091</td>\n",
       "    </tr>\n",
       "    <tr>\n",
       "      <th>HouseAge_88</th>\n",
       "      <td>-0.442233</td>\n",
       "    </tr>\n",
       "    <tr>\n",
       "      <th>HouseAge_110</th>\n",
       "      <td>-0.454596</td>\n",
       "    </tr>\n",
       "    <tr>\n",
       "      <th>HouseAge_80</th>\n",
       "      <td>-0.460603</td>\n",
       "    </tr>\n",
       "    <tr>\n",
       "      <th>HouseAge_105</th>\n",
       "      <td>-0.465136</td>\n",
       "    </tr>\n",
       "    <tr>\n",
       "      <th>HouseAge_143</th>\n",
       "      <td>-0.468898</td>\n",
       "    </tr>\n",
       "    <tr>\n",
       "      <th>HouseAge_104</th>\n",
       "      <td>-0.469294</td>\n",
       "    </tr>\n",
       "    <tr>\n",
       "      <th>HouseAge_100</th>\n",
       "      <td>-0.472926</td>\n",
       "    </tr>\n",
       "    <tr>\n",
       "      <th>HouseAge_81</th>\n",
       "      <td>-0.512736</td>\n",
       "    </tr>\n",
       "    <tr>\n",
       "      <th>HouseAge_112</th>\n",
       "      <td>-0.517903</td>\n",
       "    </tr>\n",
       "    <tr>\n",
       "      <th>HouseAge_108</th>\n",
       "      <td>-0.541423</td>\n",
       "    </tr>\n",
       "    <tr>\n",
       "      <th>HouseAge_72</th>\n",
       "      <td>-0.542842</td>\n",
       "    </tr>\n",
       "    <tr>\n",
       "      <th>HouseAge_128</th>\n",
       "      <td>-0.559301</td>\n",
       "    </tr>\n",
       "    <tr>\n",
       "      <th>HouseAge_138</th>\n",
       "      <td>-0.663363</td>\n",
       "    </tr>\n",
       "    <tr>\n",
       "      <th>HouseAge_126</th>\n",
       "      <td>-0.684002</td>\n",
       "    </tr>\n",
       "    <tr>\n",
       "      <th>HouseAge_91</th>\n",
       "      <td>-0.734018</td>\n",
       "    </tr>\n",
       "  </tbody>\n",
       "</table>\n",
       "<p>354 rows × 1 columns</p>\n",
       "</div>"
      ],
      "text/plain": [
       "                     Coeffecient\n",
       "MiscFeature_Othr        0.781389\n",
       "MiscFeature_None        0.661644\n",
       "RoofStyle_Shed          0.654457\n",
       "MiscFeature_Shed        0.604415\n",
       "RoofMatl_Membran        0.527856\n",
       "Condition2_Feedr        0.496653\n",
       "MiscFeature_TenC        0.446566\n",
       "Condition2_RRNn         0.439525\n",
       "MSZoning_FV             0.400920\n",
       "HouseStyle_1.5Unf       0.397910\n",
       "Condition2_Norm         0.367272\n",
       "RoofMatl_Metal          0.357180\n",
       "MSZoning_RL             0.349817\n",
       "MSZoning_RM             0.336037\n",
       "MSZoning_RH             0.324843\n",
       "Exterior1st_Stone       0.317391\n",
       "Heating_GasW            0.301345\n",
       "Condition2_PosN         0.294671\n",
       "Heating_Wall            0.243261\n",
       "Heating_GasA            0.219847\n",
       "HouseStyle_2.5Unf       0.207230\n",
       "SaleType_Con            0.174051\n",
       "PoolQC                  0.170853\n",
       "Exterior2nd_CmentBd     0.160709\n",
       "GarageType_CarPort      0.155869\n",
       "GarageType_Detchd       0.155802\n",
       "GarageType_BuiltIn      0.142386\n",
       "MSSubClass_75           0.138093\n",
       "Exterior1st_BrkFace     0.137564\n",
       "Foundation_Stone        0.136575\n",
       "...                          ...\n",
       "HouseAge_84            -0.396498\n",
       "HouseAge_58            -0.397882\n",
       "HouseAge_55            -0.399335\n",
       "HouseAge_61            -0.403081\n",
       "HouseAge_68            -0.405175\n",
       "LandSlope_Sev          -0.409206\n",
       "HouseAge_87            -0.411679\n",
       "HouseAge_89            -0.412839\n",
       "HouseAge_98            -0.419671\n",
       "HouseAge_102           -0.419895\n",
       "HouseAge_96            -0.424443\n",
       "HouseAge_118           -0.427973\n",
       "HouseAge_77            -0.428719\n",
       "HouseAge_133           -0.428782\n",
       "HouseAge_65            -0.429091\n",
       "HouseAge_88            -0.442233\n",
       "HouseAge_110           -0.454596\n",
       "HouseAge_80            -0.460603\n",
       "HouseAge_105           -0.465136\n",
       "HouseAge_143           -0.468898\n",
       "HouseAge_104           -0.469294\n",
       "HouseAge_100           -0.472926\n",
       "HouseAge_81            -0.512736\n",
       "HouseAge_112           -0.517903\n",
       "HouseAge_108           -0.541423\n",
       "HouseAge_72            -0.542842\n",
       "HouseAge_128           -0.559301\n",
       "HouseAge_138           -0.663363\n",
       "HouseAge_126           -0.684002\n",
       "HouseAge_91            -0.734018\n",
       "\n",
       "[354 rows x 1 columns]"
      ]
     },
     "execution_count": 17,
     "metadata": {},
     "output_type": "execute_result"
    }
   ],
   "source": [
    "# Convert the coefficient into a dataframe\n",
    "coeffecients = pd.DataFrame(lm.coef_,X.columns)\n",
    "coeffecients.columns = ['Coeffecient']\n",
    "coeffecients.sort_values(by='Coeffecient', ascending = False)"
   ]
  },
  {
   "cell_type": "markdown",
   "metadata": {},
   "source": [
    "## LASSO REGRESSION"
   ]
  },
  {
   "cell_type": "markdown",
   "metadata": {},
   "source": [
    "Run LASSO with different alpha values(L1 penalties). \n",
    "Choose best L1 penalty using a crossvalidation. \n",
    "Choose best L1 penalty and test the model on the HoldOut Data."
   ]
  },
  {
   "cell_type": "code",
   "execution_count": 18,
   "metadata": {
    "scrolled": true
   },
   "outputs": [
    {
     "data": {
      "text/plain": [
       "array([9.00000000e-05, 6.11578947e-04, 1.13315789e-03, 1.65473684e-03,\n",
       "       2.17631579e-03, 2.69789474e-03, 3.21947368e-03, 3.74105263e-03,\n",
       "       4.26263158e-03, 4.78421053e-03, 5.30578947e-03, 5.82736842e-03,\n",
       "       6.34894737e-03, 6.87052632e-03, 7.39210526e-03, 7.91368421e-03,\n",
       "       8.43526316e-03, 8.95684211e-03, 9.47842105e-03, 1.00000000e-02])"
      ]
     },
     "execution_count": 18,
     "metadata": {},
     "output_type": "execute_result"
    }
   ],
   "source": [
    "alpha = np.linspace(0.00009, 0.01, num=20)\n",
    "alpha"
   ]
  },
  {
   "cell_type": "code",
   "execution_count": 19,
   "metadata": {},
   "outputs": [],
   "source": [
    "# We perform 5-fold cross-validation to choose the best alpha, \n",
    "# refit the mode, compute the associated test error  \n",
    "# print the best models coefficients ."
   ]
  },
  {
   "cell_type": "code",
   "execution_count": 20,
   "metadata": {},
   "outputs": [],
   "source": [
    "lasso_train_model_ = Lasso(max_iter=10000, normalize=True)"
   ]
  },
  {
   "cell_type": "code",
   "execution_count": 21,
   "metadata": {},
   "outputs": [
    {
     "data": {
      "text/plain": [
       "Lasso(alpha=1.0, copy_X=True, fit_intercept=True, max_iter=10000,\n",
       "   normalize=True, positive=False, precompute=False, random_state=None,\n",
       "   selection='cyclic', tol=0.0001, warm_start=False)"
      ]
     },
     "execution_count": 21,
     "metadata": {},
     "output_type": "execute_result"
    }
   ],
   "source": [
    "lasso_train_model_"
   ]
  },
  {
   "cell_type": "code",
   "execution_count": 22,
   "metadata": {
    "scrolled": true
   },
   "outputs": [
    {
     "name": "stdout",
     "output_type": "stream",
     "text": [
      "Alpha= 0.00014312304566003038\n"
     ]
    }
   ],
   "source": [
    "lassocv = LassoCV(alphas=None, cv=10, max_iter=100000, normalize=True)\n",
    "lassocv.fit(X_train, y_train)\n",
    "lasso_train_model_.set_params(alpha=lassocv.alpha_)\n",
    "print(\"Alpha=\", lassocv.alpha_)"
   ]
  },
  {
   "cell_type": "code",
   "execution_count": 33,
   "metadata": {
    "scrolled": true
   },
   "outputs": [
    {
     "name": "stdout",
     "output_type": "stream",
     "text": [
      "mse =  0.015854681601726924\n",
      "rmse =  0.12591537476308015\n",
      "best model coefficients:\n"
     ]
    },
    {
     "data": {
      "text/plain": [
       "3SsnPorch               0.000000\n",
       "Bathrooms               0.038962\n",
       "BedroomAbvGr            0.000000\n",
       "BsmtCond                0.007960\n",
       "BsmtQual               -0.013162\n",
       "EnclosedPorch           0.000000\n",
       "ExterCond               0.000000\n",
       "ExterQual              -0.004174\n",
       "Fence                   0.000000\n",
       "FireplaceQu            -0.000000\n",
       "Fireplaces              0.020218\n",
       "GarageArea              0.000139\n",
       "GarageCond              0.000000\n",
       "GarageQual              0.002243\n",
       "GrLivArea               0.000215\n",
       "HeatingQC              -0.007139\n",
       "KitchenAbvGr           -0.033212\n",
       "KitchenQual            -0.011473\n",
       "LotArea                 0.000003\n",
       "LotFrontage             0.000492\n",
       "MasVnrArea              0.000017\n",
       "MiscVal                 0.000000\n",
       "OpenPorchSF             0.000163\n",
       "OverallCond             0.035375\n",
       "OverallQual             0.065428\n",
       "PoolArea                0.000000\n",
       "PoolQC                  0.000000\n",
       "ScreenPorch             0.000072\n",
       "TotalBsmtSF             0.000123\n",
       "WoodDeckSF              0.000080\n",
       "                          ...   \n",
       "Neighborhood_IDOTRR    -0.044928\n",
       "Neighborhood_MeadowV   -0.102208\n",
       "Neighborhood_Mitchel   -0.000000\n",
       "Neighborhood_NAmes     -0.003216\n",
       "Neighborhood_NPkVill   -0.000000\n",
       "Neighborhood_NWAmes     0.000000\n",
       "Neighborhood_NoRidge    0.003715\n",
       "Neighborhood_NridgHt    0.057679\n",
       "Neighborhood_OldTown   -0.059099\n",
       "Neighborhood_SWISU     -0.029261\n",
       "Neighborhood_Sawyer    -0.000000\n",
       "Neighborhood_SawyerW   -0.000000\n",
       "Neighborhood_Somerst    0.009816\n",
       "Neighborhood_StoneBr    0.090860\n",
       "Neighborhood_Timber     0.000000\n",
       "Neighborhood_Veenker    0.014163\n",
       "PavedDrive_P           -0.000000\n",
       "PavedDrive_Y            0.047688\n",
       "MiscFeature_None        0.007507\n",
       "MiscFeature_Othr       -0.000000\n",
       "MiscFeature_Shed       -0.000000\n",
       "MiscFeature_TenC       -0.000000\n",
       "SaleType_CWD            0.000000\n",
       "SaleType_Con            0.000000\n",
       "SaleType_ConLD         -0.000000\n",
       "SaleType_ConLI         -0.000000\n",
       "SaleType_ConLw          0.000000\n",
       "SaleType_New            0.088829\n",
       "SaleType_Oth           -0.000000\n",
       "SaleType_WD            -0.000000\n",
       "Length: 354, dtype: float64"
      ]
     },
     "execution_count": 33,
     "metadata": {},
     "output_type": "execute_result"
    }
   ],
   "source": [
    "lasso_train_model_.fit(X_train, y_train)\n",
    "print(\"mse = \",MSE(y_test, lasso_train_model_.predict(X_test)))\n",
    "print(\"rmse = \",np.sqrt(MSE(y_test, lasso_train_model_.predict(X_test))))\n",
    "\n",
    "print(\"best model coefficients:\")\n",
    "pd.Series(lasso_train_model_.coef_, index=X.columns)"
   ]
  },
  {
   "cell_type": "code",
   "execution_count": 34,
   "metadata": {},
   "outputs": [],
   "source": [
    "Lasso_coef_df = pd.Series(lasso_train_model_.coef_, index = X_train.columns).sort_values(ascending = False)"
   ]
  },
  {
   "cell_type": "code",
   "execution_count": 35,
   "metadata": {},
   "outputs": [],
   "source": [
    "top_15_features = Lasso_coef_df[:15]"
   ]
  },
  {
   "cell_type": "code",
   "execution_count": 36,
   "metadata": {},
   "outputs": [
    {
     "data": {
      "image/png": "[encoded data removed]",
      "text/plain": [
       "<matplotlib.figure.Figure at 0x11f9540b8>"
      ]
     },
     "metadata": {},
     "output_type": "display_data"
    }
   ],
   "source": [
    "ax = top_15_features.plot(kind = 'barh', figsize = (8,10), color = 'red', zorder = 2, width = 0.85)\n",
    "# Despine\n",
    "ax.spines['right'].set_visible(False)\n",
    "ax.spines['top'].set_visible(False)\n",
    "ax.spines['left'].set_visible(False)\n",
    "ax.spines['bottom'].set_visible(False)\n",
    "\n",
    "# Switch off ticks\n",
    "ax.tick_params(axis=\"both\", which=\"both\", bottom=\"off\", top=\"off\", labelbottom=\"on\", left=\"off\", right=\"off\", labelleft=\"on\")\n",
    "\n",
    "# Draw vertical axis lines\n",
    "vals = ax.get_xticks()\n",
    "for tick in vals:\n",
    "    ax.axvline(x=tick, linestyle='dashed', alpha=0.4, color='#eeeeee', zorder=1)\n",
    "\n",
    "# Set x-axis label\n",
    "ax.set_xlabel(\"Coeffecient\", labelpad=20, weight='bold', size=12)\n",
    "\n",
    "# Set y-axis label\n",
    "ax.set_ylabel(\"House Feature\", labelpad=20, weight='bold', size=12)\n",
    "\n",
    "# Format y-axis label\n",
    "ax.xaxis.set_major_formatter(StrMethodFormatter('{x:,g}'))"
   ]
  },
  {
   "cell_type": "markdown",
   "metadata": {},
   "source": [
    "## RIDGE REGRESSION"
   ]
  },
  {
   "cell_type": "markdown",
   "metadata": {},
   "source": [
    "Run Ridge with different alpha values(L1 penalties). \n",
    "Choose best L1 penalty using a crossvalidation. \n",
    "Choose best L1 penalty and test the model on the HoldOut Data."
   ]
  },
  {
   "cell_type": "code",
   "execution_count": 37,
   "metadata": {},
   "outputs": [],
   "source": [
    "# Define a range of l2_penalty functions\n",
    "alphas = np.linspace(.1, 100, num=300)"
   ]
  },
  {
   "cell_type": "code",
   "execution_count": 39,
   "metadata": {},
   "outputs": [
    {
     "name": "stdout",
     "output_type": "stream",
     "text": [
      "Alpha= 0.1\n",
      "mse = 0.019217735829092326\n",
      "rmse = 0.13862804849341392\n",
      "best model coefficients:\n"
     ]
    },
    {
     "data": {
      "text/plain": [
       "3SsnPorch               0.000129\n",
       "Bathrooms               0.037046\n",
       "BedroomAbvGr            0.011101\n",
       "BsmtCond                0.009459\n",
       "BsmtQual               -0.011354\n",
       "EnclosedPorch           0.000128\n",
       "ExterCond               0.003696\n",
       "ExterQual              -0.008667\n",
       "Fence                   0.002383\n",
       "FireplaceQu            -0.002539\n",
       "Fireplaces              0.027030\n",
       "GarageArea              0.000120\n",
       "GarageCond              0.000842\n",
       "GarageQual              0.004882\n",
       "GrLivArea               0.000148\n",
       "HeatingQC              -0.006618\n",
       "KitchenAbvGr           -0.025898\n",
       "KitchenQual            -0.019297\n",
       "LotArea                 0.000004\n",
       "LotFrontage             0.000709\n",
       "MasVnrArea              0.000042\n",
       "MiscVal                 0.000005\n",
       "OpenPorchSF             0.000230\n",
       "OverallCond             0.031072\n",
       "OverallQual             0.041712\n",
       "PoolArea                0.000262\n",
       "PoolQC                  0.067551\n",
       "ScreenPorch             0.000182\n",
       "TotalBsmtSF             0.000120\n",
       "WoodDeckSF              0.000137\n",
       "                          ...   \n",
       "Neighborhood_IDOTRR    -0.072552\n",
       "Neighborhood_MeadowV   -0.133705\n",
       "Neighborhood_Mitchel   -0.035650\n",
       "Neighborhood_NAmes     -0.018902\n",
       "Neighborhood_NPkVill    0.018314\n",
       "Neighborhood_NWAmes     0.013082\n",
       "Neighborhood_NoRidge    0.053406\n",
       "Neighborhood_NridgHt    0.083930\n",
       "Neighborhood_OldTown   -0.055387\n",
       "Neighborhood_SWISU     -0.076238\n",
       "Neighborhood_Sawyer    -0.006866\n",
       "Neighborhood_SawyerW   -0.011805\n",
       "Neighborhood_Somerst    0.016252\n",
       "Neighborhood_StoneBr    0.144428\n",
       "Neighborhood_Timber     0.004885\n",
       "Neighborhood_Veenker    0.086546\n",
       "PavedDrive_P            0.002299\n",
       "PavedDrive_Y            0.037951\n",
       "MiscFeature_None        0.018576\n",
       "MiscFeature_Othr        0.076723\n",
       "MiscFeature_Shed       -0.013894\n",
       "MiscFeature_TenC       -0.117381\n",
       "SaleType_CWD            0.046789\n",
       "SaleType_Con            0.119543\n",
       "SaleType_ConLD          0.007049\n",
       "SaleType_ConLI         -0.001647\n",
       "SaleType_ConLw          0.012116\n",
       "SaleType_New            0.048941\n",
       "SaleType_Oth            0.030501\n",
       "SaleType_WD             0.001397\n",
       "Length: 354, dtype: float64"
      ]
     },
     "execution_count": 39,
     "metadata": {},
     "output_type": "execute_result"
    }
   ],
   "source": [
    "ridgecv = RidgeCV(alphas=alphas, normalize=True)\n",
    "ridgecv.fit(X_train, y_train)\n",
    "print(\"Alpha=\", ridgecv.alpha_)\n",
    "ridge = Ridge(alpha=ridgecv.alpha_, normalize=True)\n",
    "ridge.fit(X_train, y_train)\n",
    "print(\"mse = {}\".format(MSE(y_test, ridge.predict(X_test))))\n",
    "print(\"rmse = {}\".format (np.sqrt(MSE(y_test, ridge.predict(X_test)))))\n",
    "\n",
    "print(\"best model coefficients:\")\n",
    "pd.Series(ridge.coef_, index=X.columns)"
   ]
  },
  {
   "cell_type": "code",
   "execution_count": 40,
   "metadata": {},
   "outputs": [],
   "source": [
    "Ridge_coef_df = pd.Series(ridge.coef_, index = X_train.columns).sort_values(ascending = False)[:15]"
   ]
  },
  {
   "cell_type": "code",
   "execution_count": 41,
   "metadata": {},
   "outputs": [],
   "source": [
    "top_15_ridge_features = Ridge_coef_df[:15]"
   ]
  },
  {
   "cell_type": "code",
   "execution_count": 42,
   "metadata": {
    "scrolled": false
   },
   "outputs": [
    {
     "data": {
      "image/png": "[encoded data removed]",
      "text/plain": [
       "<matplotlib.figure.Figure at 0x124a93978>"
      ]
     },
     "metadata": {},
     "output_type": "display_data"
    }
   ],
   "source": [
    "ax = top_15_ridge_features.plot(kind = 'barh', figsize = (8,10), color = 'red', zorder = 2, width = 0.85)\n",
    "# Despine\n",
    "ax.spines['right'].set_visible(False)\n",
    "ax.spines['top'].set_visible(False)\n",
    "ax.spines['left'].set_visible(False)\n",
    "ax.spines['bottom'].set_visible(False)\n",
    "\n",
    "# Switch off ticks\n",
    "ax.tick_params(axis=\"both\", which=\"both\", bottom=\"off\", top=\"off\", labelbottom=\"on\", left=\"off\", right=\"off\", labelleft=\"on\")\n",
    "\n",
    "# Draw vertical axis lines\n",
    "vals = ax.get_xticks()\n",
    "for tick in vals:\n",
    "    ax.axvline(x=tick, linestyle='dashed', alpha=0.4, color='#eeeeee', zorder=1)\n",
    "\n",
    "# Set x-axis label\n",
    "ax.set_xlabel(\"Coeffecient\", labelpad=20, weight='bold', size=12)\n",
    "\n",
    "# Set y-axis label\n",
    "ax.set_ylabel(\"House Feature\", labelpad=20, weight='bold', size=12)\n",
    "\n",
    "# Format y-axis label\n",
    "ax.xaxis.set_major_formatter(StrMethodFormatter('{x:,g}'))"
   ]
  },
  {
   "cell_type": "markdown",
   "metadata": {},
   "source": [
    "## ElasticNet"
   ]
  },
  {
   "cell_type": "code",
   "execution_count": 43,
   "metadata": {},
   "outputs": [],
   "source": [
    "ElasticNet_model_ = linear_model.ElasticNet(max_iter=10000, normalize=True)"
   ]
  },
  {
   "cell_type": "code",
   "execution_count": 44,
   "metadata": {},
   "outputs": [
    {
     "data": {
      "text/plain": [
       "ElasticNet(alpha=1.0, copy_X=True, fit_intercept=True, l1_ratio=0.5,\n",
       "      max_iter=10000, normalize=True, positive=False, precompute=False,\n",
       "      random_state=None, selection='cyclic', tol=0.0001, warm_start=False)"
      ]
     },
     "execution_count": 44,
     "metadata": {},
     "output_type": "execute_result"
    }
   ],
   "source": [
    "ElasticNet_model_"
   ]
  },
  {
   "cell_type": "code",
   "execution_count": 45,
   "metadata": {
    "cell_style": "center",
    "scrolled": true
   },
   "outputs": [
    {
     "name": "stdout",
     "output_type": "stream",
     "text": [
      "Alpha= 0.00018833081390783236\n"
     ]
    }
   ],
   "source": [
    "ElaNetCV = linear_model.ElasticNetCV(n_alphas=100, normalize=True, cv=5, l1_ratio= 0.5)\n",
    "ElaNetCV.fit(X_train, y_train)\n",
    "print(\"Alpha=\", ElaNetCV.alpha_)\n",
    "\n",
    "#predictions = ElaNet.predict(X_test)\n",
    "#score\n",
    "#print('RMSE: {}'.format(MSE(predictions,y_test)))\n",
    "#print('RMSE: {}'.format(np.sqrt(MSE(predictions,y_test))))"
   ]
  },
  {
   "cell_type": "code",
   "execution_count": 46,
   "metadata": {},
   "outputs": [
    {
     "name": "stdout",
     "output_type": "stream",
     "text": [
      "mse = 0.016266414673276955\n",
      "rmse = 0.12753985523465577\n"
     ]
    }
   ],
   "source": [
    "ElasticNet_model_ = linear_model.ElasticNet(alpha=ElaNetCV.alpha_, normalize=True)\n",
    "ElasticNet_model_.fit(X_train, y_train)\n",
    "print(\"mse = {}\".format(MSE(y_test, ElasticNet_model_.predict(X_test))))\n",
    "print(\"rmse = {}\".format (np.sqrt(MSE(y_test, ElasticNet_model_.predict(X_test)))))"
   ]
  },
  {
   "cell_type": "code",
   "execution_count": null,
   "metadata": {},
   "outputs": [],
   "source": []
  }
 ],
 "metadata": {
  "kernelspec": {
   "display_name": "Python 3",
   "language": "python",
   "name": "python3"
  },
  "language_info": {
   "codemirror_mode": {
    "name": "ipython",
    "version": 3
   },
   "file_extension": ".py",
   "mimetype": "text/x-python",
   "name": "python",
   "nbconvert_exporter": "python",
   "pygments_lexer": "ipython3",
   "version": "3.6.4"
  },
  "toc": {
   "base_numbering": 1,
   "nav_menu": {},
   "number_sections": true,
   "sideBar": true,
   "skip_h1_title": false,
   "title_cell": "Table of Contents",
   "title_sidebar": "Contents",
   "toc_cell": false,
   "toc_position": {},
   "toc_section_display": true,
   "toc_window_display": false
  }
 },
 "nbformat": 4,
 "nbformat_minor": 2
}
